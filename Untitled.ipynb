{
 "cells": [
  {
   "cell_type": "code",
   "execution_count": 1,
   "metadata": {},
   "outputs": [],
   "source": [
    "from testapp import *\n"
   ]
  },
  {
   "cell_type": "code",
   "execution_count": 3,
   "metadata": {},
   "outputs": [],
   "source": [
    "user = User.objects.get(name=\"ajai\")"
   ]
  },
  {
   "cell_type": "code",
   "execution_count": 4,
   "metadata": {},
   "outputs": [
    {
     "data": {
      "text/plain": [
       "'ajai'"
      ]
     },
     "execution_count": 4,
     "metadata": {},
     "output_type": "execute_result"
    }
   ],
   "source": [
    "user.name"
   ]
  },
  {
   "cell_type": "code",
   "execution_count": 10,
   "metadata": {},
   "outputs": [],
   "source": [
    "from typing import List\n",
    "\n",
    "from testapp.models import *\n",
    "\n",
    "\n",
    "def clear_all_tasks_for_user(name: str) -> None:\n",
    "    user = User.objects.get(name=name)\n",
    "    for task in user.assigned_tasks.all():\n",
    "        task.is_open = False\n",
    "        task.save()\n",
    "\n",
    "\n",
    "def has_user_open_tasks(name: str) -> List[str]:\n",
    "    user = User.objects.get(name=name)\n",
    "    open_tasks = []\n",
    "    for task in user.assigned_tasks.all():\n",
    "        if task.is_open:\n",
    "            open_tasks.append(task.name)\n",
    "    return open_tasks\n"
   ]
  },
  {
   "cell_type": "code",
   "execution_count": 17,
   "metadata": {},
   "outputs": [],
   "source": [
    "user = User.objects.get(name=\n",
    "                        'ajaidanial')\n"
   ]
  },
  {
   "cell_type": "code",
   "execution_count": 19,
   "metadata": {},
   "outputs": [
    {
     "name": "stdout",
     "output_type": "stream",
     "text": [
      "test2\n",
      "test3\n"
     ]
    }
   ],
   "source": [
    "for t in user.assigned_tasks.all():\n",
    "    print(t.name)\n",
    "    "
   ]
  },
  {
   "cell_type": "code",
   "execution_count": 24,
   "metadata": {},
   "outputs": [
    {
     "name": "stdout",
     "output_type": "stream",
     "text": [
      "ajithemmanuel\n",
      "ajaidanial\n",
      "ajithemmanuel\n",
      "ajithemmanuel\n",
      "test3\n"
     ]
    }
   ],
   "source": [
    "user = User.objects.get(name=\"ajithemmanuel\")\n",
    "for task in user.assigned_tasks.all():\n",
    "    print(user.name)\n",
    "    print(task.creator.name)\n",
    "    if task.creator.name == user.name:\n",
    "        print(task.name)\n"
   ]
  },
  {
   "cell_type": "code",
   "execution_count": 39,
   "metadata": {},
   "outputs": [],
   "source": [
    "from datetime import datetime\n",
    "from typing import List\n",
    "\n",
    "from testapp.models import *\n",
    "\n",
    "\n",
    "def clear_all_tasks_for_user(name: str) -> None:\n",
    "    user = User.objects.get(name=name)\n",
    "    for task in user.assigned_tasks.all():\n",
    "        task.is_open = False\n",
    "        task.save()\n",
    "\n",
    "\n",
    "def has_user_open_tasks(name: str) -> List[str]:\n",
    "    user = User.objects.get(name=name)\n",
    "    open_tasks = []\n",
    "    for task in user.assigned_tasks.all():\n",
    "        if task.is_open:\n",
    "            open_tasks.append(task.name)\n",
    "    return open_tasks\n",
    "\n",
    "\n",
    "def tasks_created_by_user(name: str) -> List[str]:\n",
    "    user = User.objects.get(name=name)\n",
    "    created_tasks = []\n",
    "    for task in user.assigned_tasks.all():\n",
    "        if task.creator.name == user.name:\n",
    "            created_tasks.append(user.name)\n",
    "    return created_tasks\n",
    "\n",
    "\n",
    "def tasks_with_expired_due_date(name: str) -> List[str]:\n",
    "    user = User.objects.get(name=name)\n",
    "    due_tasks = []\n",
    "    for task in user.assigned_tasks.all():\n",
    "        print(task.due_date)\n",
    "        print(datetime.now().date())\n",
    "        if task.due_date < datetime.now().date():\n",
    "            due_tasks.append(task.name)\n",
    "    return due_tasks\n"
   ]
  },
  {
   "cell_type": "code",
   "execution_count": 40,
   "metadata": {},
   "outputs": [
    {
     "name": "stdout",
     "output_type": "stream",
     "text": [
      "2019-05-29\n",
      "2019-05-24\n",
      "2019-06-07\n",
      "2019-05-24\n"
     ]
    },
    {
     "data": {
      "text/plain": [
       "[]"
      ]
     },
     "execution_count": 40,
     "metadata": {},
     "output_type": "execute_result"
    }
   ],
   "source": [
    "tasks_with_expired_due_date(name='ajaidanial')"
   ]
  },
  {
   "cell_type": "code",
   "execution_count": 48,
   "metadata": {},
   "outputs": [],
   "source": [
    "\n",
    "def tasks_with_three_days_due(name: str) -> List[str]:\n",
    "    user = User.objects.get(name=name)\n",
    "    due_tasks = []\n",
    "    for task in user.assigned_tasks.all():\n",
    "\n",
    "        if 3 >= (datetime.now().date() - task.due_date).days > 0:\n",
    "            print(datetime.now().date() - task.due_date)\n",
    "            due_tasks.append(task.name)\n",
    "    return due_tasks\n"
   ]
  },
  {
   "cell_type": "code",
   "execution_count": 58,
   "metadata": {},
   "outputs": [],
   "source": [
    "def tasks_with_three_days_due(name: str) -> List[str]:\n",
    "    user = User.objects.get(name=name)\n",
    "    due_tasks = []\n",
    "    for task in user.assigned_tasks.all():\n",
    "\n",
    "        print((datetime.now().date() - task.due_date).days)\n",
    "\n",
    "        if 3 >= (datetime.now().date() - task.due_date).days > -21:\n",
    "            print(datetime.now().date() - task.due_date)\n",
    "            due_tasks.append(task.name)\n",
    "    return due_tasks\n"
   ]
  },
  {
   "cell_type": "code",
   "execution_count": null,
   "metadata": {},
   "outputs": [],
   "source": []
  },
  {
   "cell_type": "code",
   "execution_count": null,
   "metadata": {},
   "outputs": [],
   "source": []
  },
  {
   "cell_type": "code",
   "execution_count": 59,
   "metadata": {},
   "outputs": [
    {
     "name": "stdout",
     "output_type": "stream",
     "text": [
      "-5\n",
      "-5 days, 0:00:00\n",
      "-14\n",
      "-14 days, 0:00:00\n",
      "-20\n",
      "-20 days, 0:00:00\n"
     ]
    },
    {
     "data": {
      "text/plain": [
       "['test2', 'test3', 'test4']"
      ]
     },
     "execution_count": 59,
     "metadata": {},
     "output_type": "execute_result"
    }
   ],
   "source": [
    "tasks_with_three_days_due('madhu')"
   ]
  },
  {
   "cell_type": "code",
   "execution_count": null,
   "metadata": {},
   "outputs": [],
   "source": []
  },
  {
   "cell_type": "code",
   "execution_count": null,
   "metadata": {},
   "outputs": [],
   "source": []
  },
  {
   "cell_type": "code",
   "execution_count": null,
   "metadata": {},
   "outputs": [],
   "source": []
  }
 ],
 "metadata": {
  "kernelspec": {
   "display_name": "Django Shell-Plus",
   "language": "python",
   "name": "django_extensions"
  },
  "language_info": {
   "codemirror_mode": {
    "name": "ipython",
    "version": 3
   },
   "file_extension": ".py",
   "mimetype": "text/x-python",
   "name": "python",
   "nbconvert_exporter": "python",
   "pygments_lexer": "ipython3",
   "version": "3.5.3"
  }
 },
 "nbformat": 4,
 "nbformat_minor": 2
}
