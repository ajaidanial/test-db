{
 "cells": [
  {
   "cell_type": "code",
   "execution_count": 1,
   "metadata": {},
   "outputs": [],
   "source": [
    "from testapp import *\n"
   ]
  },
  {
   "cell_type": "code",
   "execution_count": 3,
   "metadata": {},
   "outputs": [],
   "source": [
    "user = User.objects.get(name=\"ajai\")"
   ]
  },
  {
   "cell_type": "code",
   "execution_count": 4,
   "metadata": {},
   "outputs": [
    {
     "data": {
      "text/plain": [
       "'ajai'"
      ]
     },
     "execution_count": 4,
     "metadata": {},
     "output_type": "execute_result"
    }
   ],
   "source": [
    "user.name"
   ]
  },
  {
   "cell_type": "code",
   "execution_count": 10,
   "metadata": {},
   "outputs": [],
   "source": [
    "from typing import List\n",
    "\n",
    "from testapp.models import *\n",
    "\n",
    "\n",
    "def clear_all_tasks_for_user(name: str) -> None:\n",
    "    user = User.objects.get(name=name)\n",
    "    for task in user.assigned_tasks.all():\n",
    "        task.is_open = False\n",
    "        task.save()\n",
    "\n",
    "\n",
    "def has_user_open_tasks(name: str) -> List[str]:\n",
    "    user = User.objects.get(name=name)\n",
    "    open_tasks = []\n",
    "    for task in user.assigned_tasks.all():\n",
    "        if task.is_open:\n",
    "            open_tasks.append(task.name)\n",
    "    return open_tasks\n"
   ]
  },
  {
   "cell_type": "code",
   "execution_count": 17,
   "metadata": {},
   "outputs": [],
   "source": [
    "user = User.objects.get(name=\n",
    "                        'ajaidanial')\n"
   ]
  },
  {
   "cell_type": "code",
   "execution_count": 19,
   "metadata": {},
   "outputs": [
    {
     "name": "stdout",
     "output_type": "stream",
     "text": [
      "test2\n",
      "test3\n"
     ]
    }
   ],
   "source": [
    "for t in user.assigned_tasks.all():\n",
    "    print(t.name)\n",
    "    "
   ]
  },
  {
   "cell_type": "code",
   "execution_count": 24,
   "metadata": {},
   "outputs": [
    {
     "name": "stdout",
     "output_type": "stream",
     "text": [
      "ajithemmanuel\n",
      "ajaidanial\n",
      "ajithemmanuel\n",
      "ajithemmanuel\n",
      "test3\n"
     ]
    }
   ],
   "source": [
    "user = User.objects.get(name=\"ajithemmanuel\")\n",
    "for task in user.assigned_tasks.all():\n",
    "    print(user.name)\n",
    "    print(task.creator.name)\n",
    "    if task.creator.name == user.name:\n",
    "        print(task.name)\n"
   ]
  },
  {
   "cell_type": "code",
   "execution_count": null,
   "metadata": {},
   "outputs": [],
   "source": []
  },
  {
   "cell_type": "code",
   "execution_count": null,
   "metadata": {},
   "outputs": [],
   "source": []
  }
 ],
 "metadata": {
  "kernelspec": {
   "display_name": "Django Shell-Plus",
   "language": "python",
   "name": "django_extensions"
  },
  "language_info": {
   "codemirror_mode": {
    "name": "ipython",
    "version": 3
   },
   "file_extension": ".py",
   "mimetype": "text/x-python",
   "name": "python",
   "nbconvert_exporter": "python",
   "pygments_lexer": "ipython3",
   "version": "3.5.3"
  }
 },
 "nbformat": 4,
 "nbformat_minor": 2
}
